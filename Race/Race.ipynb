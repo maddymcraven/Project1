{
 "cells": [
  {
   "cell_type": "code",
   "execution_count": 1,
   "metadata": {},
   "outputs": [],
   "source": [
    "# Dependencies\n",
    "import numpy as np\n",
    "import pandas as pd\n",
    "import matplotlib.pyplot as plt\n",
    "import requests\n",
    "from census import Census\n",
    "import gmaps\n",
    "import json\n",
    "\n",
    "# Census API Key\n",
    "from config import (api_key, gkey)\n",
    "c = Census(api_key, year=2016)\n",
    "api_key\n",
    "\n",
    "# gmaps API key\n",
    "gmaps.configure(api_key=gkey)"
   ]
  },
  {
   "cell_type": "code",
   "execution_count": 2,
   "metadata": {},
   "outputs": [],
   "source": [
    "#load police killing data\n",
    "file_path = \"../police_killings.csv\"\n",
    "\n",
    "police_df = pd.read_csv(file_path)\n",
    "police_df = police_df.rename(columns={ \"Victim's race\": \"race\",\n",
    "                                     \"Zipcode\": \"zip\"})\n",
    "\n",
    "police_df = police_df.replace({'Unknown race': 'Unknown',\n",
    "                              \"Unknown Race\" : \"Unknown\"})"
   ]
  },
  {
   "cell_type": "code",
   "execution_count": 3,
   "metadata": {},
   "outputs": [],
   "source": [
    "# Run Census Search to retrieve data on all zip codes (2013 ACS5 Census)\n",
    "# See: https://github.com/CommerceDataService/census-wrapper for library documentation\n",
    "# See: https://gist.github.com/afhaque/60558290d6efd892351c4b64e5c01e9b for labels\n",
    "census_data = c.acs5.get((\"B01003_001E\",\"B02001_002E\", \"B02001_003E\", \"B02001_004E\", \"B02001_005E\", \"B02001_006E\", \"B02001_008E\", \"B03001_003E\"), {'for': 'zip code tabulation area:*'})\n",
    "\n",
    "# Convert to DataFrame\n",
    "census_pd = pd.DataFrame(census_data)\n",
    "#rename columns \n",
    "census_pd = census_pd.rename(columns={ \"B01003_001E\": \"population\",\n",
    "                                      \"B02001_002E\": \"white\",\n",
    "                                      \"B02001_003E\": \"black\",\n",
    "                                      \"B02001_004E\" : \"native\",\n",
    "                                      \"B02001_005E\" : \"asian\",\n",
    "                                      \"B02001_006E\" : \"native_h\",\n",
    "                                      \"B02001_008E\" : \"mixed\",\n",
    "                                      \"B03001_003E\" : \"hispanic\",                                      \n",
    "                                      \"zip code tabulation area\": \"Zipcode\"})"
   ]
  },
  {
   "cell_type": "code",
   "execution_count": 4,
   "metadata": {},
   "outputs": [],
   "source": [
    "#get percentages\n",
    "\n",
    "census_pd[\"p_white\"] = census_pd.white/census_pd.population\n",
    "census_pd[\"p_black\"] = census_pd.black/census_pd.population\n",
    "census_pd[\"p_native\"] = census_pd.native/census_pd.population\n",
    "census_pd[\"p_asian\"] = census_pd.asian/census_pd.population\n",
    "census_pd[\"p_native_h\"] = census_pd.native_h/census_pd.population\n",
    "census_pd[\"p_mixed\"] = census_pd.mixed/census_pd.population\n",
    "census_pd[\"p_hispanic\"] = census_pd.hispanic/census_pd.population\n"
   ]
  },
  {
   "cell_type": "code",
   "execution_count": 5,
   "metadata": {},
   "outputs": [],
   "source": [
    "kill_df = police_df.groupby([\"zip\", \"race\"]).size()\n",
    "kill_df = pd.DataFrame(kill_df).reset_index()\n",
    "total_df = kill_df.pivot_table(columns=\"race\", index='zip', values=0, fill_value=0)"
   ]
  },
  {
   "cell_type": "code",
   "execution_count": 6,
   "metadata": {},
   "outputs": [],
   "source": [
    "#rename columns \n",
    "total_df = total_df.rename(columns={\"White\": \"white_d\",\n",
    "                                      \"Black\": \"black_d\",\n",
    "                                      \"Native American\" : \"native_d\",\n",
    "                                      \"Asian\" : \"asian_d\",\n",
    "                                      \"Pacific Islander\" : \"native_h_d\",\n",
    "                                      \"Hispanic\" : \"hispanic_d\",                                      \n",
    "                                      \"zip code tabulation area\": \"Zipcode\"})\n",
    "#total column\n",
    "total_df['total'] = total_df.asian_d + total_df.black_d + total_df.hispanic_d + total_df.native_d + total_df.Unknown + total_df.white_d\n",
    "total_df\n",
    "\n",
    "#percentages \n",
    "total_df['p_white_d'] = total_df.white_d/total_df.total\n",
    "total_df['p_black_d'] = total_df.black_d/total_df.total\n",
    "total_df['p_hispanic_d'] = total_df.hispanic_d/total_df.total\n",
    "total_df['p_native_d'] = total_df.native_d/total_df.total\n",
    "total_df['p_native_h_d'] = total_df.native_h_d/total_df.total\n",
    "total_df['p_Unknown_d'] = total_df.Unknown/total_df.total\n",
    "total_df['p_asian_d'] = total_df.asian_d/total_df.total"
   ]
  },
  {
   "cell_type": "code",
   "execution_count": 7,
   "metadata": {},
   "outputs": [],
   "source": [
    "#join the two\n",
    "total_df1 = total_df.reset_index()\n",
    "census_pd = census_pd.rename(columns = {\"Zipcode\":\"zip\"})\n",
    "\n",
    "#making type standard\n",
    "total_df1['zip']=total_df1['zip'].astype(int)\n",
    "census_pd['zip']=census_pd['zip'].astype(int)\n",
    "\n",
    "everything = pd.merge(total_df1, census_pd, how = 'left', on=['zip', 'zip'])"
   ]
  },
  {
   "cell_type": "code",
   "execution_count": 8,
   "metadata": {},
   "outputs": [],
   "source": [
    "#adding proportionalities\n",
    "everything['white_popp'] = everything.white_d/everything.white\n",
    "everything['black_popp'] = everything.black_d/everything.black\n",
    "everything['hispanic_popp'] = everything.hispanic_d/everything.hispanic\n",
    "everything['native_popp'] = everything.native_d/everything.native\n",
    "everything['asian_popp'] = everything.asian_d/everything.asian"
   ]
  },
  {
   "cell_type": "code",
   "execution_count": 9,
   "metadata": {},
   "outputs": [],
   "source": [
    "#adding population comparison data\n",
    "everything['white_prop'] = everything.p_white_d/everything.p_white\n",
    "everything['black_prop'] = everything.p_black_d/everything.p_black\n",
    "everything['hispanic_prop'] = everything.p_hispanic_d/everything.p_hispanic\n",
    "everything['native_perc_prop'] = everything.p_native_d/everything.p_native\n",
    "everything['asian_perc_prop'] = everything.p_asian_d/everything.p_asian"
   ]
  },
  {
   "cell_type": "code",
   "execution_count": 10,
   "metadata": {},
   "outputs": [
    {
     "data": {
      "text/plain": [
       "Index(['zip', 'asian_d', 'black_d', 'hispanic_d', 'native_d', 'native_h_d',\n",
       "       'Unknown', 'white_d', 'total', 'p_white_d', 'p_black_d', 'p_hispanic_d',\n",
       "       'p_native_d', 'p_native_h_d', 'p_Unknown_d', 'p_asian_d', 'population',\n",
       "       'white', 'black', 'native', 'asian', 'native_h', 'mixed', 'hispanic',\n",
       "       'p_white', 'p_black', 'p_native', 'p_asian', 'p_native_h', 'p_mixed',\n",
       "       'p_hispanic', 'white_popp', 'black_popp', 'hispanic_popp',\n",
       "       'native_popp', 'asian_popp', 'white_prop', 'black_prop',\n",
       "       'hispanic_prop', 'native_perc_prop', 'asian_perc_prop'],\n",
       "      dtype='object')"
      ]
     },
     "execution_count": 10,
     "metadata": {},
     "output_type": "execute_result"
    }
   ],
   "source": [
    "everything.to_csv('everything.csv')\n",
    "everything.columns"
   ]
  },
  {
   "cell_type": "code",
   "execution_count": 11,
   "metadata": {},
   "outputs": [],
   "source": [
    "summary = everything[['zip', 'asian_d', 'black_d', 'hispanic_d', 'native_d', 'native_h_d',\n",
    "       'Unknown', 'white_d', 'total', 'p_white_d', 'p_black_d', 'p_hispanic_d',\n",
    "       'p_native_d', 'p_native_h_d', 'p_Unknown_d', 'p_asian_d', 'population',\n",
    "       'white', 'black', 'native', 'asian', 'native_h', 'mixed', 'hispanic',\n",
    "       'p_white', 'p_black', 'p_native', 'p_asian', 'p_native_h', 'p_mixed',\n",
    "       'p_hispanic', 'white_popp', 'black_popp', 'hispanic_popp',\n",
    "       'native_popp', 'asian_popp', 'white_prop', 'black_prop',\n",
    "       'hispanic_prop', 'native_perc_prop', 'asian_perc_prop']]\n",
    "summary\n",
    "\n",
    "summary = summary.replace({np.inf : 100})"
   ]
  },
  {
   "cell_type": "code",
   "execution_count": 12,
   "metadata": {},
   "outputs": [],
   "source": [
    "import folium"
   ]
  },
  {
   "cell_type": "code",
   "execution_count": 29,
   "metadata": {},
   "outputs": [
    {
     "ename": "KeyError",
     "evalue": "'type'",
     "output_type": "error",
     "traceback": [
      "\u001b[1;31m---------------------------------------------------------------------------\u001b[0m",
      "\u001b[1;31mKeyError\u001b[0m                                  Traceback (most recent call last)",
      "\u001b[1;32m<ipython-input-29-6a66c0288c1c>\u001b[0m in \u001b[0;36m<module>\u001b[1;34m\u001b[0m\n\u001b[0;32m      9\u001b[0m     \u001b[0mdata\u001b[0m\u001b[1;33m=\u001b[0m\u001b[0msummary\u001b[0m\u001b[1;33m,\u001b[0m\u001b[1;33m\u001b[0m\u001b[1;33m\u001b[0m\u001b[0m\n\u001b[0;32m     10\u001b[0m     \u001b[0mcolumns\u001b[0m\u001b[1;33m=\u001b[0m\u001b[1;33m[\u001b[0m\u001b[1;34m'zip'\u001b[0m\u001b[1;33m,\u001b[0m \u001b[1;34m'black_popp'\u001b[0m\u001b[1;33m]\u001b[0m\u001b[1;33m,\u001b[0m\u001b[1;33m\u001b[0m\u001b[1;33m\u001b[0m\u001b[0m\n\u001b[1;32m---> 11\u001b[1;33m     \u001b[0mkey_on\u001b[0m\u001b[1;33m=\u001b[0m\u001b[1;34m'feature.id'\u001b[0m\u001b[1;33m\u001b[0m\u001b[1;33m\u001b[0m\u001b[0m\n\u001b[0m\u001b[0;32m     12\u001b[0m     \u001b[1;31m#fill_color='YlGn',\u001b[0m\u001b[1;33m\u001b[0m\u001b[1;33m\u001b[0m\u001b[1;33m\u001b[0m\u001b[0m\n\u001b[0;32m     13\u001b[0m     \u001b[1;31m#fill_opacity=0.7,\u001b[0m\u001b[1;33m\u001b[0m\u001b[1;33m\u001b[0m\u001b[1;33m\u001b[0m\u001b[0m\n",
      "\u001b[1;32m~\\anaconda3\\envs\\PythonData\\lib\\site-packages\\folium\\features.py\u001b[0m in \u001b[0;36m__init__\u001b[1;34m(self, geo_data, data, columns, key_on, bins, fill_color, nan_fill_color, fill_opacity, nan_fill_opacity, line_color, line_weight, line_opacity, name, legend_name, overlay, control, show, topojson, smooth_factor, highlight, **kwargs)\u001b[0m\n\u001b[0;32m   1249\u001b[0m                 \u001b[0mstyle_function\u001b[0m\u001b[1;33m=\u001b[0m\u001b[0mstyle_function\u001b[0m\u001b[1;33m,\u001b[0m\u001b[1;33m\u001b[0m\u001b[1;33m\u001b[0m\u001b[0m\n\u001b[0;32m   1250\u001b[0m                 \u001b[0msmooth_factor\u001b[0m\u001b[1;33m=\u001b[0m\u001b[0msmooth_factor\u001b[0m\u001b[1;33m,\u001b[0m\u001b[1;33m\u001b[0m\u001b[1;33m\u001b[0m\u001b[0m\n\u001b[1;32m-> 1251\u001b[1;33m                 highlight_function=highlight_function if highlight else None)\n\u001b[0m\u001b[0;32m   1252\u001b[0m \u001b[1;33m\u001b[0m\u001b[0m\n\u001b[0;32m   1253\u001b[0m         \u001b[0mself\u001b[0m\u001b[1;33m.\u001b[0m\u001b[0madd_child\u001b[0m\u001b[1;33m(\u001b[0m\u001b[0mself\u001b[0m\u001b[1;33m.\u001b[0m\u001b[0mgeojson\u001b[0m\u001b[1;33m)\u001b[0m\u001b[1;33m\u001b[0m\u001b[1;33m\u001b[0m\u001b[0m\n",
      "\u001b[1;32m~\\anaconda3\\envs\\PythonData\\lib\\site-packages\\folium\\features.py\u001b[0m in \u001b[0;36m__init__\u001b[1;34m(self, data, style_function, highlight_function, name, overlay, control, show, smooth_factor, tooltip, embed, popup)\u001b[0m\n\u001b[0;32m    454\u001b[0m \u001b[1;33m\u001b[0m\u001b[0m\n\u001b[0;32m    455\u001b[0m         \u001b[1;32mif\u001b[0m \u001b[0mself\u001b[0m\u001b[1;33m.\u001b[0m\u001b[0mstyle\u001b[0m \u001b[1;32mor\u001b[0m \u001b[0mself\u001b[0m\u001b[1;33m.\u001b[0m\u001b[0mhighlight\u001b[0m\u001b[1;33m:\u001b[0m\u001b[1;33m\u001b[0m\u001b[1;33m\u001b[0m\u001b[0m\n\u001b[1;32m--> 456\u001b[1;33m             \u001b[0mself\u001b[0m\u001b[1;33m.\u001b[0m\u001b[0mconvert_to_feature_collection\u001b[0m\u001b[1;33m(\u001b[0m\u001b[1;33m)\u001b[0m\u001b[1;33m\u001b[0m\u001b[1;33m\u001b[0m\u001b[0m\n\u001b[0m\u001b[0;32m    457\u001b[0m             \u001b[1;32mif\u001b[0m \u001b[0mself\u001b[0m\u001b[1;33m.\u001b[0m\u001b[0mstyle\u001b[0m\u001b[1;33m:\u001b[0m\u001b[1;33m\u001b[0m\u001b[1;33m\u001b[0m\u001b[0m\n\u001b[0;32m    458\u001b[0m                 \u001b[0mself\u001b[0m\u001b[1;33m.\u001b[0m\u001b[0m_validate_function\u001b[0m\u001b[1;33m(\u001b[0m\u001b[0mstyle_function\u001b[0m\u001b[1;33m,\u001b[0m \u001b[1;34m'style_function'\u001b[0m\u001b[1;33m)\u001b[0m\u001b[1;33m\u001b[0m\u001b[1;33m\u001b[0m\u001b[0m\n",
      "\u001b[1;32m~\\anaconda3\\envs\\PythonData\\lib\\site-packages\\folium\\features.py\u001b[0m in \u001b[0;36mconvert_to_feature_collection\u001b[1;34m(self)\u001b[0m\n\u001b[0;32m    501\u001b[0m     \u001b[1;32mdef\u001b[0m \u001b[0mconvert_to_feature_collection\u001b[0m\u001b[1;33m(\u001b[0m\u001b[0mself\u001b[0m\u001b[1;33m)\u001b[0m\u001b[1;33m:\u001b[0m\u001b[1;33m\u001b[0m\u001b[1;33m\u001b[0m\u001b[0m\n\u001b[0;32m    502\u001b[0m         \u001b[1;34m\"\"\"Convert data into a FeatureCollection if it is not already.\"\"\"\u001b[0m\u001b[1;33m\u001b[0m\u001b[1;33m\u001b[0m\u001b[0m\n\u001b[1;32m--> 503\u001b[1;33m         \u001b[1;32mif\u001b[0m \u001b[0mself\u001b[0m\u001b[1;33m.\u001b[0m\u001b[0mdata\u001b[0m\u001b[1;33m[\u001b[0m\u001b[1;34m'type'\u001b[0m\u001b[1;33m]\u001b[0m \u001b[1;33m==\u001b[0m \u001b[1;34m'FeatureCollection'\u001b[0m\u001b[1;33m:\u001b[0m\u001b[1;33m\u001b[0m\u001b[1;33m\u001b[0m\u001b[0m\n\u001b[0m\u001b[0;32m    504\u001b[0m             \u001b[1;32mreturn\u001b[0m\u001b[1;33m\u001b[0m\u001b[1;33m\u001b[0m\u001b[0m\n\u001b[0;32m    505\u001b[0m         \u001b[1;32mif\u001b[0m \u001b[1;32mnot\u001b[0m \u001b[0mself\u001b[0m\u001b[1;33m.\u001b[0m\u001b[0membed\u001b[0m\u001b[1;33m:\u001b[0m\u001b[1;33m\u001b[0m\u001b[1;33m\u001b[0m\u001b[0m\n",
      "\u001b[1;31mKeyError\u001b[0m: 'type'"
     ]
    }
   ],
   "source": [
    "m = folium.Map(location=[48, -102], zoom_start=3)\n",
    "\n",
    "url = 'https://data.ct.gov/api/views/2fi9-sgi3/rows.json?accessType=DOWNLOAD'\n",
    "#zip_JSON = requests.get(url).json()\n",
    "\n",
    "folium.Choropleth(\n",
    "    geo_data=url,\n",
    "    name='choropleth',\n",
    "    data=summary,\n",
    "    columns=['zip', 'black_popp'],\n",
    "    key_on='feature.id'\n",
    "    #fill_color='YlGn',\n",
    "    #fill_opacity=0.7,\n",
    "    #line_opacity=0.2,\n",
    "    #legend_name='Black Death %'\n",
    ").add_to(m)\n",
    "\n",
    "folium.LayerControl().add_to(m)\n",
    "\n",
    "m"
   ]
  },
  {
   "cell_type": "code",
   "execution_count": 28,
   "metadata": {},
   "outputs": [
    {
     "ename": "AttributeError",
     "evalue": "'dict' object has no attribute 'feature'",
     "output_type": "error",
     "traceback": [
      "\u001b[1;31m---------------------------------------------------------------------------\u001b[0m",
      "\u001b[1;31mAttributeError\u001b[0m                            Traceback (most recent call last)",
      "\u001b[1;32m<ipython-input-28-66c0b418b4a4>\u001b[0m in \u001b[0;36m<module>\u001b[1;34m\u001b[0m\n\u001b[1;32m----> 1\u001b[1;33m \u001b[0mzip_JSON\u001b[0m\u001b[1;33m[\u001b[0m\u001b[1;34m'meta'\u001b[0m\u001b[1;33m]\u001b[0m\u001b[1;33m.\u001b[0m\u001b[0mfeature\u001b[0m\u001b[1;33m\u001b[0m\u001b[1;33m\u001b[0m\u001b[0m\n\u001b[0m",
      "\u001b[1;31mAttributeError\u001b[0m: 'dict' object has no attribute 'feature'"
     ]
    }
   ],
   "source": [
    "zip_JSON['meta'].feature"
   ]
  },
  {
   "cell_type": "code",
   "execution_count": null,
   "metadata": {},
   "outputs": [],
   "source": []
  }
 ],
 "metadata": {
  "kernelspec": {
   "display_name": "Python [conda env:PythonData]",
   "language": "python",
   "name": "conda-env-PythonData-py"
  },
  "language_info": {
   "codemirror_mode": {
    "name": "ipython",
    "version": 3
   },
   "file_extension": ".py",
   "mimetype": "text/x-python",
   "name": "python",
   "nbconvert_exporter": "python",
   "pygments_lexer": "ipython3",
   "version": "3.6.10"
  }
 },
 "nbformat": 4,
 "nbformat_minor": 4
}
